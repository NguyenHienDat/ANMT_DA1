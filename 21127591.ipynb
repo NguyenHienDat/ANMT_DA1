{
 "cells": [
  {
   "cell_type": "markdown",
   "id": "96cb2859-a058-476e-ba2f-af4751518c90",
   "metadata": {},
   "source": [
    "## Cài đặt thư viện pycryptodome"
   ]
  },
  {
   "cell_type": "code",
   "execution_count": 1,
   "id": "3f0a0e8b-152d-4a82-97f7-f4c558d5d644",
   "metadata": {
    "tags": []
   },
   "outputs": [
    {
     "name": "stdout",
     "output_type": "stream",
     "text": [
      "Requirement already satisfied: pycryptodome in d:\\anaconda\\lib\\site-packages (3.20.0)\n",
      "Note: you may need to restart the kernel to use updated packages.\n"
     ]
    }
   ],
   "source": [
    "pip install pycryptodome"
   ]
  },
  {
   "cell_type": "code",
   "execution_count": 2,
   "id": "894100ee-b13e-4032-9b0b-62ae9a9b7d48",
   "metadata": {},
   "outputs": [],
   "source": [
    "from Crypto.Cipher import AES\n",
    "from Crypto.Random import get_random_bytes\n",
    "from Crypto.PublicKey import RSA\n",
    "from Crypto.Cipher import PKCS1_OAEP\n",
    "from Crypto.Hash import SHA256\n",
    "import hashlib"
   ]
  },
  {
   "cell_type": "markdown",
   "id": "98cb05bf-bd81-4359-addf-13143dc4af09",
   "metadata": {},
   "source": [
    "## A. Xây dựng một module gồm các chức năng chính:"
   ]
  },
  {
   "cell_type": "markdown",
   "id": "793392c8-742b-4c6c-96f4-07c9dedc8314",
   "metadata": {},
   "source": [
    "# 1. Phát sinh một khoá bí mật Ks của thuật toán AES"
   ]
  },
  {
   "cell_type": "code",
   "execution_count": 3,
   "id": "f1d1ac14-a983-4c6b-9d70-d5cacc1a6534",
   "metadata": {},
   "outputs": [],
   "source": [
    "def generate_secret_key():\n",
    "    return get_random_bytes(16)  # 16 bytes = 128 bits"
   ]
  },
  {
   "cell_type": "markdown",
   "id": "2e5595ae-a304-4d55-ab62-fa5455001298",
   "metadata": {},
   "source": [
    "## 2. Mã hoá tệp tin sử dụng thuật toán AES với khoá Ks"
   ]
  },
  {
   "cell_type": "code",
   "execution_count": 4,
   "id": "b2382366-006a-4ec8-8429-7b52b700d323",
   "metadata": {},
   "outputs": [],
   "source": [
    "def encrypt_file(key, input_file, output_file):\n",
    "    cipher = AES.new(key, AES.MODE_EAX)\n",
    "    with open(input_file, 'rb') as f:\n",
    "        plaintext = f.read()\n",
    "        ciphertext, tag = cipher.encrypt_and_digest(plaintext)\n",
    "    with open(output_file, 'wb') as f:\n",
    "        f.write(cipher.nonce + ciphertext)"
   ]
  },
  {
   "cell_type": "markdown",
   "id": "ed54d83c-19c4-4666-93fd-e87aaf7969e8",
   "metadata": {},
   "source": [
    "# 3. Giải mã tệp tin sử dụng thuật toán AES với khoá Ks        "
   ]
  },
  {
   "cell_type": "code",
   "execution_count": 5,
   "id": "9786593a-c675-4f89-b14b-cdbf6ec0facf",
   "metadata": {},
   "outputs": [],
   "source": [
    "def decrypt_file(key, input_file, output_file):\n",
    "    with open(input_file, 'rb') as f:\n",
    "        nonce, ciphertext = f.read(16), f.read()\n",
    "        cipher = AES.new(key, AES.MODE_EAX, nonce=nonce)\n",
    "        plaintext = cipher.decrypt(ciphertext)\n",
    "    with open(output_file, 'wb') as f:\n",
    "        f.write(plaintext)"
   ]
  },
  {
   "cell_type": "markdown",
   "id": "6c577232-1a74-40f4-802c-9f61fd1ddf37",
   "metadata": {},
   "source": [
    "# 4. Phát sinh một cặp khoá Kprivate và Kpublic của thuật toán RSA"
   ]
  },
  {
   "cell_type": "code",
   "execution_count": 6,
   "id": "a95f2a76-6fae-4519-ad8f-52745017bb8a",
   "metadata": {
    "tags": []
   },
   "outputs": [],
   "source": [
    "def generate_rsa_key_pair():\n",
    "    # Phát sinh cặp khóa RSA\n",
    "    key = RSA.generate(2048)\n",
    "    # Gán khóa phát sinh cho biến private_key \n",
    "    private_key = key\n",
    "    # Tạo public key từ khóa đã phảt sinh\n",
    "    public_key = key.publickey()\n",
    "    return private_key, public_key"
   ]
  },
  {
   "cell_type": "markdown",
   "id": "a00b69c3-71ef-45b1-9cc5-19378fd0ae1f",
   "metadata": {},
   "source": [
    "# 5. Mã hoá một chuỗi sử dụng thuật toán RSA sử dụng khoá Kpublic"
   ]
  },
  {
   "cell_type": "code",
   "execution_count": 7,
   "id": "38ba92d7-f827-4ef2-9a52-9ea901e5a31c",
   "metadata": {},
   "outputs": [],
   "source": [
    "def encrypt_string(text, public_key):\n",
    "    cipher = PKCS1_OAEP.new(public_key)\n",
    "    ciphertext = cipher.encrypt(text)\n",
    "    return ciphertext"
   ]
  },
  {
   "cell_type": "markdown",
   "id": "c10b9ffd-da3a-418d-b947-45cad7c61ba8",
   "metadata": {},
   "source": [
    "# 6. Giải mã một chuỗi sử dụng thuật toán RSA sử dụng khoá Kprivate"
   ]
  },
  {
   "cell_type": "code",
   "execution_count": 8,
   "id": "91cd13b7-5604-42ff-85fe-aebe177ec9c2",
   "metadata": {},
   "outputs": [],
   "source": [
    "def decrypt_string(text, private_key):\n",
    "    cipher = PKCS1_OAEP.new(private_key)\n",
    "    decrypted_text = cipher.decrypt(text)\n",
    "    return decrypted_text"
   ]
  },
  {
   "cell_type": "markdown",
   "id": "9063fa2b-24d6-46a7-a58a-d9df04e74417",
   "metadata": {},
   "source": [
    "# 7. Tính giá trị hash của một chuỗi sử dụng thuật toán SHA-1, SHA-256"
   ]
  },
  {
   "cell_type": "code",
   "execution_count": 9,
   "id": "a3ccb22f-226f-414b-90c0-1dadf961fc22",
   "metadata": {
    "tags": []
   },
   "outputs": [],
   "source": [
    "# Tính giá trị hash của một chuỗi sử dụng thuật toán SHA-1\n",
    "def hash_string_sha1(input_string):\n",
    "    return hashlib.sha1(input_string.encode()).hexdigest()\n",
    "\n",
    "# Tính giá trị hash của một chuỗi sử dụng thuật toán SHA-256\n",
    "def hash_string_sha256(input_string):\n",
    "    return hashlib.sha256(input_string.encode()).hexdigest()"
   ]
  },
  {
   "cell_type": "markdown",
   "id": "5cd5cfc6-93f6-424b-9e91-2b9d2cab0ea3",
   "metadata": {},
   "source": [
    "# B. Xây dựng một ứng dụng để sử dụng các chức năng của module ở mục A"
   ]
  },
  {
   "cell_type": "markdown",
   "id": "8580cbad-c1f9-4ad6-b097-7d03ce2688a1",
   "metadata": {},
   "source": [
    "# 1. Người dùng mã hóa một tập tin"
   ]
  },
  {
   "cell_type": "markdown",
   "id": "0c5b2ab2-9abf-4fed-a203-ce495b5c3c9c",
   "metadata": {},
   "source": [
    "# Mã hóa file input.txt và ghi vào file encrypted.txt"
   ]
  },
  {
   "cell_type": "code",
   "execution_count": 10,
   "id": "d3af1c8a-de70-424b-930c-2d5c970cd1b3",
   "metadata": {
    "tags": []
   },
   "outputs": [
    {
     "name": "stdout",
     "output_type": "stream",
     "text": [
      "Mã hoá hoàn tất\n",
      "Khoá Kprivate để giải mã:  Private RSA key at 0x1B057978730\n"
     ]
    }
   ],
   "source": [
    "input_file = 'input.txt'\n",
    "encrypted_file = 'encrypted.txt'\n",
    "# Phát sinh khóa bí mật \n",
    "secret_key = generate_secret_key() \n",
    "# Thực hiện mã hóa file input.txt và lưu vào file encrypted.txt\n",
    "encrypt_file(secret_key, input_file, encrypted_file)\n",
    "# Phát sinh private key và public key của thuật toán RSA\n",
    "private_key, public_key = generate_rsa_key_pair()\n",
    "# Mã hóa khóa bí mật bằng public key\n",
    "Kx = encrypt_string(secret_key, public_key)\n",
    "# Tính giá trị hash SHA-1 cho private key\n",
    "HKprivate = hash_string_sha1(str(private_key))\n",
    "print('Mã hoá hoàn tất')\n",
    "print('Khoá Kprivate để giải mã: ',private_key)"
   ]
  },
  {
   "cell_type": "markdown",
   "id": "600dba4b-6ef3-400b-a9b7-d2201a384c40",
   "metadata": {},
   "source": [
    "# 2. Người dùng giải mã một tập tin"
   ]
  },
  {
   "cell_type": "markdown",
   "id": "8d3e6cd0-83bd-4567-927b-f6661f4de254",
   "metadata": {},
   "source": [
    "# Giải mã file encrypted.txt và ghi vào file decrypted.txt"
   ]
  },
  {
   "cell_type": "code",
   "execution_count": 11,
   "id": "ff200984-7b54-428e-848e-43745e750322",
   "metadata": {},
   "outputs": [
    {
     "name": "stdin",
     "output_type": "stream",
     "text": [
      "Nhập khoá Kprivate:  Private RSA key at 0x1B057978730\n"
     ]
    },
    {
     "name": "stdout",
     "output_type": "stream",
     "text": [
      "Giải mã hoàn tất\n"
     ]
    }
   ],
   "source": [
    "encrypted_file = 'encrypted.txt'\n",
    "decrypted_file = 'decrypted.txt'\n",
    "# Người dùng nhập khóa Kprivate\n",
    "Kprivate = input('Nhập khoá Kprivate: ')\n",
    "# Tính giá trị hash SHA-1 của Kprivate và so sánh với HKprivate, nếu không trùng thì giải mã thất bại\n",
    "sha1_Kprivate = hash_string_sha1(Kprivate)\n",
    "\n",
    "while sha1_Kprivate != HKprivate:\n",
    "    Kprivate = input('Khoá Kprivate không hợp lệ, vui lòng nhập lại: ')\n",
    "    sha1_Kprivate = hash_string_sha1(Kprivate)\n",
    "# Giải mã chuỗi Kx để có được Ks \n",
    "Ks = decrypt_string(Kx, private_key)\n",
    "# Dùng Ks giải mã tập tin \n",
    "decrypt_file(Ks, encrypted_file, decrypted_file)\n",
    "print('Giải mã hoàn tất')"
   ]
  }
 ],
 "metadata": {
  "kernelspec": {
   "display_name": "Python 3 (ipykernel)",
   "language": "python",
   "name": "python3"
  },
  "language_info": {
   "codemirror_mode": {
    "name": "ipython",
    "version": 3
   },
   "file_extension": ".py",
   "mimetype": "text/x-python",
   "name": "python",
   "nbconvert_exporter": "python",
   "pygments_lexer": "ipython3",
   "version": "3.10.12"
  }
 },
 "nbformat": 4,
 "nbformat_minor": 5
}
